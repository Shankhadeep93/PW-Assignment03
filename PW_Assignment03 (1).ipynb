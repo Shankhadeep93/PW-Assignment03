{
  "nbformat": 4,
  "nbformat_minor": 0,
  "metadata": {
    "colab": {
      "provenance": []
    },
    "kernelspec": {
      "name": "python3",
      "display_name": "Python 3"
    },
    "language_info": {
      "name": "python"
    }
  },
  "cells": [
    {
      "cell_type": "code",
      "execution_count": null,
      "metadata": {
        "id": "alvWe4xFS5MI"
      },
      "outputs": [],
      "source": [
        "# Write a code to reverse a string."
      ]
    },
    {
      "cell_type": "code",
      "source": [
        "print(\"This Application will create a string reversal\")\n",
        "given_string=input(\"Please enter your Name:\")\n",
        "reversed_string=given_string[::-1]\n",
        "print(\"Your Name in Reverse:\",reversed_string)\n"
      ],
      "metadata": {
        "colab": {
          "base_uri": "https://localhost:8080/"
        },
        "collapsed": true,
        "id": "psMZMO5eT-cJ",
        "outputId": "24e1b18f-3994-40d8-b213-96b8650507a9"
      },
      "execution_count": null,
      "outputs": [
        {
          "output_type": "stream",
          "name": "stdout",
          "text": [
            "This Application will create a string reversal\n",
            "Please enter your Name:Shankhadeep\n",
            "Your Name in Reverse: peedahknahS\n"
          ]
        }
      ]
    },
    {
      "cell_type": "code",
      "source": [
        "# Write a code to count the number of vowels in a string.\n"
      ],
      "metadata": {
        "id": "voml08AZVctS"
      },
      "execution_count": null,
      "outputs": []
    },
    {
      "cell_type": "code",
      "source": [
        "print(\"This application will create a vowel counter\")\n",
        "given_string =input(\"please enter your name:\")\n",
        "vowel_count= given_string.find(\"a\" \"e\" \"i\" \"o\" \"u\")\n",
        "vowel_count=given_string.count(\"a\")+given_string.count(\"e\")+given_string.count(\"i\")+given_string.count(\"o\")+given_string.count(\"u\")\n",
        "print(\"The number of vowels in your name is:\",vowel_count)\n"
      ],
      "metadata": {
        "colab": {
          "base_uri": "https://localhost:8080/"
        },
        "collapsed": true,
        "id": "Qu7ZkxUkWg2T",
        "outputId": "7b90014b-def0-45ea-8ac1-d80d706a31be"
      },
      "execution_count": null,
      "outputs": [
        {
          "output_type": "stream",
          "name": "stdout",
          "text": [
            "This application will create a vowel counter\n",
            "please enter your name:Shankhadeep\n",
            "The number of vowels in your name is: 4\n"
          ]
        }
      ]
    },
    {
      "cell_type": "markdown",
      "source": [],
      "metadata": {
        "id": "PnkI_QP3gFup"
      }
    },
    {
      "cell_type": "code",
      "source": [
        "# Write a code to check if a given string is a palindrome or not."
      ],
      "metadata": {
        "id": "U5bPHqdigGUJ"
      },
      "execution_count": null,
      "outputs": []
    },
    {
      "cell_type": "code",
      "source": [
        "print(\"This application will create a pallindrome checker\")\n",
        "given_string=input(\"Please enter your word:\")\n",
        "reversed_string=given_string[::-1]\n",
        "if given_string==reversed_string:\n",
        "    print(\"Your word is a pallindrome\")\n",
        "else:\n",
        "    print(\"Your word is not a pallindrome\")"
      ],
      "metadata": {
        "colab": {
          "base_uri": "https://localhost:8080/"
        },
        "id": "bP2C_difgKOB",
        "outputId": "1da578af-5e7b-4650-a2ca-62426fafa59d"
      },
      "execution_count": null,
      "outputs": [
        {
          "output_type": "stream",
          "name": "stdout",
          "text": [
            "This application will create a pallindrome checker\n",
            "Please enter your word:madam\n",
            "Your word is a pallindrome\n"
          ]
        }
      ]
    },
    {
      "cell_type": "code",
      "source": [],
      "metadata": {
        "id": "r0SZAAkoyt4J"
      },
      "execution_count": null,
      "outputs": []
    },
    {
      "cell_type": "code",
      "source": [
        "# Write a code to check if two given strings are anagrams of each other."
      ],
      "metadata": {
        "id": "1s5Pv1CShs4j"
      },
      "execution_count": null,
      "outputs": []
    },
    {
      "cell_type": "code",
      "source": [
        "def are_anagrams(str1, str2):\n",
        "    str1 = str1.replace(\" \", \"\").lower()\n",
        "    str2 = str2.replace(\" \", \"\").lower()\n",
        "\n",
        "\n",
        "    return sorted(str1) == sorted(str2)\n",
        "\n",
        "string1 = \"Listen\"\n",
        "string2 = \"Silent\"\n",
        "\n",
        "if are_anagrams(string1, string2):\n",
        "    print(f\"'{string1}' and '{string2}' are anagrams.\")\n",
        "else:\n",
        "    print(f\"'{string1}' and '{string2}' are not anagrams.\")\n",
        "\n"
      ],
      "metadata": {
        "colab": {
          "base_uri": "https://localhost:8080/"
        },
        "id": "F0o1WwqZjySb",
        "outputId": "ca0354c8-f8e1-4c64-bfbd-48203cbe0291"
      },
      "execution_count": null,
      "outputs": [
        {
          "output_type": "stream",
          "name": "stdout",
          "text": [
            "'Listen' and 'Silent' are anagrams.\n"
          ]
        }
      ]
    },
    {
      "cell_type": "code",
      "source": [],
      "metadata": {
        "id": "0Jd5kE3Iyzlw"
      },
      "execution_count": null,
      "outputs": []
    },
    {
      "cell_type": "code",
      "source": [
        "def compress_string(s):\n",
        "    compressed = []\n",
        "    count = 1\n",
        "\n",
        "    for i in range(1, len(s)):\n",
        "        if s[i] == s[i - 1]:\n",
        "            count += 1\n",
        "        else:\n",
        "            compressed.append(s[i - 1] + str(count))\n",
        "            count = 1\n",
        "\n",
        "    compressed.append(s[-1] + str(count))\n",
        "\n",
        "    compressed_string = ''.join(compressed)\n",
        "\n",
        "    return compressed_string if len(compressed_string) < len(s) else s\n",
        "\n",
        "input_string = \"aabcccccaaa\"\n",
        "result = compress_string(input_string)\n",
        "print(f\"Original: {input_string}, Compressed: {result}\")\n"
      ],
      "metadata": {
        "colab": {
          "base_uri": "https://localhost:8080/"
        },
        "id": "YmkSpcJNywLQ",
        "outputId": "fc4f76db-3c04-44d2-ffea-51b2e9e495fa"
      },
      "execution_count": 2,
      "outputs": [
        {
          "output_type": "stream",
          "name": "stdout",
          "text": [
            "Original: aabcccccaaa, Compressed: a2b1c5a3\n"
          ]
        }
      ]
    },
    {
      "cell_type": "code",
      "source": [
        "#  Write a code to determine if a string has all unique characters."
      ],
      "metadata": {
        "id": "1GXO29S7zgHZ"
      },
      "execution_count": null,
      "outputs": []
    },
    {
      "cell_type": "code",
      "source": [
        "def has_unique_characters_manual(s):\n",
        "    for i in range(len(s)):\n",
        "        for j in range(i + 1, len(s)):\n",
        "            if s[i] == s[j]:\n",
        "                return False\n",
        "    return True\n",
        "\n",
        "given_string =input(\"please enter your word:\")\n",
        "result = has_unique_characters_manual(given_string)\n",
        "print(f\"Does '{given_string}' have all unique characters? {result}\")\n"
      ],
      "metadata": {
        "colab": {
          "base_uri": "https://localhost:8080/"
        },
        "id": "lcxFXvd1ziqv",
        "outputId": "d81e525b-cc7a-47d5-ff35-95ba305413f8"
      },
      "execution_count": 4,
      "outputs": [
        {
          "output_type": "stream",
          "name": "stdout",
          "text": [
            "please enter your word:shankhadeep\n",
            "Does 'shankhadeep' have all unique characters? False\n"
          ]
        }
      ]
    },
    {
      "cell_type": "code",
      "source": [
        "# Write a code to convert a given string to uppercase or lowercase."
      ],
      "metadata": {
        "id": "ZXH_Sjky0j56"
      },
      "execution_count": null,
      "outputs": []
    },
    {
      "cell_type": "code",
      "source": [
        "def convert_case(s, to_upper=True):\n",
        "\n",
        "    if to_upper:\n",
        "        return s.upper()\n",
        "    else:\n",
        "        return s.lower()\n",
        "\n",
        "given_string = str(input(\"Please enter your word:\"))\n",
        "upper_result = convert_case(given_string, to_upper=True)\n",
        "lower_result = convert_case(given_string, to_upper=False)\n",
        "\n",
        "print(f\"Original: {given_string}\")\n",
        "print(f\"Uppercase: {upper_result}\")\n",
        "print(f\"Lowercase: {lower_result}\")\n"
      ],
      "metadata": {
        "colab": {
          "base_uri": "https://localhost:8080/"
        },
        "id": "xsXDFEyA01Eo",
        "outputId": "6f6d7f21-ea85-47b7-eec8-e0ebe93321f6"
      },
      "execution_count": 9,
      "outputs": [
        {
          "output_type": "stream",
          "name": "stdout",
          "text": [
            "Please enter your word:Shankhadeep\n",
            "Original: Shankhadeep\n",
            "Uppercase: SHANKHADEEP\n",
            "Lowercase: shankhadeep\n"
          ]
        }
      ]
    },
    {
      "cell_type": "code",
      "source": [
        "# Write a code to count the number of words in a string."
      ],
      "metadata": {
        "id": "_Jt48xh-2kVg"
      },
      "execution_count": null,
      "outputs": []
    },
    {
      "cell_type": "code",
      "source": [
        "def count_words(s):\n",
        "\n",
        "    words = s.split()\n",
        "    return len(words)\n",
        "\n",
        "given_string = input(\"Please enter your phrase:\")\n",
        "word_count = count_words(given_string)\n",
        "print(f\"Input: '{given_string}'\")\n",
        "print(f\"Word Count: {word_count}\")\n",
        "\n"
      ],
      "metadata": {
        "colab": {
          "base_uri": "https://localhost:8080/"
        },
        "id": "6MtVO-I02pHV",
        "outputId": "6435bcbb-8838-4203-fcf7-829fa478ea88"
      },
      "execution_count": 12,
      "outputs": [
        {
          "output_type": "stream",
          "name": "stdout",
          "text": [
            "Please enter your word:Shankhadeep\n",
            "Input: 'Shankhadeep'\n",
            "Word Count: 1\n"
          ]
        }
      ]
    },
    {
      "cell_type": "code",
      "source": [
        "#  Write a code to concatenate two strings without using the + operator"
      ],
      "metadata": {
        "id": "f-Vj6m0Z3jgP"
      },
      "execution_count": null,
      "outputs": []
    },
    {
      "cell_type": "code",
      "source": [
        "def concatenate_strings(s1, s2):\n",
        "\n",
        "    return ''.join([s1, s2])\n",
        "\n",
        "\n",
        "string1 = input(\"Please enter your first word:\")\n",
        "string2 = input(\"Please enter your second word:\")\n",
        "result = concatenate_strings(string1, string2)\n",
        "print(f\"Concatenated String: {result}\")\n"
      ],
      "metadata": {
        "colab": {
          "base_uri": "https://localhost:8080/"
        },
        "id": "f6BMb02f3pfn",
        "outputId": "e594ffd1-a9b3-4dd7-e0ea-99777f9dc6b3"
      },
      "execution_count": 15,
      "outputs": [
        {
          "output_type": "stream",
          "name": "stdout",
          "text": [
            "Please enter your first word:real\n",
            "Please enter your second word:madrid\n",
            "Concatenated String: realmadrid\n"
          ]
        }
      ]
    },
    {
      "cell_type": "code",
      "source": [
        "# Write a code to remove all occurrences of a specific element from a list."
      ],
      "metadata": {
        "id": "l52_UqXl4pVv"
      },
      "execution_count": null,
      "outputs": []
    },
    {
      "cell_type": "code",
      "source": [
        "def remove_all_occurrences(lst, element):\n",
        "\n",
        "    return [x for x in lst if x != element]\n",
        "\n",
        "\n",
        "input_list = [1, 2, 3, 4, 2, 5, 2]\n",
        "element_to_remove = 2\n",
        "result = remove_all_occurrences(input_list, element_to_remove)\n",
        "\n",
        "print(f\"Original List: {input_list}\")\n",
        "print(f\"Element to Remove: {element_to_remove}\")\n",
        "print(f\"Updated List: {result}\")\n"
      ],
      "metadata": {
        "colab": {
          "base_uri": "https://localhost:8080/"
        },
        "id": "hjNmqY4X4zsv",
        "outputId": "bd14b5bb-4f1f-4f82-dba8-cc2d52024778"
      },
      "execution_count": 16,
      "outputs": [
        {
          "output_type": "stream",
          "name": "stdout",
          "text": [
            "Original List: [1, 2, 3, 4, 2, 5, 2]\n",
            "Element to Remove: 2\n",
            "Updated List: [1, 3, 4, 5]\n"
          ]
        }
      ]
    },
    {
      "cell_type": "code",
      "source": [
        "# Implement a code to find the second largest number in a given list of integers."
      ],
      "metadata": {
        "id": "YVprhgFa49mu"
      },
      "execution_count": null,
      "outputs": []
    },
    {
      "cell_type": "code",
      "source": [
        "def find_second_largest(nums):\n",
        "\n",
        "    if len(nums) < 2:\n",
        "        return None\n",
        "\n",
        "    unique_nums = list(set(nums))\n",
        "\n",
        "    if len(unique_nums) < 2:\n",
        "        return None\n",
        "\n",
        "    unique_nums.sort(reverse=True)\n",
        "\n",
        "    return unique_nums[1]\n",
        "\n",
        "input_list = [10, 20, 20, 4, 45, 99, 99]\n",
        "second_largest = find_second_largest(input_list)\n",
        "\n",
        "print(f\"Input List: {input_list}\")\n",
        "print(f\"Second Largest Number: {second_largest}\")\n"
      ],
      "metadata": {
        "colab": {
          "base_uri": "https://localhost:8080/"
        },
        "id": "m0duAN2x5Bqv",
        "outputId": "a49715da-bd4e-4fb3-b8e0-978629a283be"
      },
      "execution_count": 17,
      "outputs": [
        {
          "output_type": "stream",
          "name": "stdout",
          "text": [
            "Input List: [10, 20, 20, 4, 45, 99, 99]\n",
            "Second Largest Number: 45\n"
          ]
        }
      ]
    },
    {
      "cell_type": "code",
      "source": [
        "# Create a code to count the occurrences of each element in a list and return a dictionary with elements as keys and their counts as values."
      ],
      "metadata": {
        "id": "xFP-t4Q35Vyg"
      },
      "execution_count": null,
      "outputs": []
    },
    {
      "cell_type": "code",
      "source": [
        "def count_occurrences(lst):\n",
        "\n",
        "    counts = {}\n",
        "    for item in lst:\n",
        "        counts[item] = counts.get(item, 0) + 1\n",
        "    return counts\n",
        "\n",
        "input_list = [1, 2, 2, 3, 4, 3, 3, 5]\n",
        "result = count_occurrences(input_list)\n",
        "\n",
        "print(f\"Input List: {input_list}\")\n",
        "print(f\"Occurrences: {result}\")\n"
      ],
      "metadata": {
        "colab": {
          "base_uri": "https://localhost:8080/"
        },
        "id": "X-kjq6OF5fu2",
        "outputId": "f074d677-9328-435f-b591-9be895bead25"
      },
      "execution_count": 18,
      "outputs": [
        {
          "output_type": "stream",
          "name": "stdout",
          "text": [
            "Input List: [1, 2, 2, 3, 4, 3, 3, 5]\n",
            "Occurrences: {1: 1, 2: 2, 3: 3, 4: 1, 5: 1}\n"
          ]
        }
      ]
    },
    {
      "cell_type": "code",
      "source": [
        "# Write a code to reverse a list in-place without using any built-in reverse functions."
      ],
      "metadata": {
        "id": "M08Qp-mC52WA"
      },
      "execution_count": null,
      "outputs": []
    },
    {
      "cell_type": "code",
      "source": [
        "def reverse_list(lst):\n",
        "\n",
        "    left = 0\n",
        "    right = len(lst) - 1\n",
        "\n",
        "    while left < right:\n",
        "\n",
        "        lst[left], lst[right] = lst[right], lst[left]\n",
        "        left += 1\n",
        "        right -= 1\n",
        "\n",
        "input_list = [1, 2, 3, 4, 5]\n",
        "print(f\"Original List: {input_list}\")\n",
        "reverse_list(input_list)\n",
        "print(f\"Reversed List: {input_list}\")\n"
      ],
      "metadata": {
        "colab": {
          "base_uri": "https://localhost:8080/"
        },
        "id": "gcdZp1gS57an",
        "outputId": "51692fa8-468e-42d3-8871-ff54be34c991"
      },
      "execution_count": 19,
      "outputs": [
        {
          "output_type": "stream",
          "name": "stdout",
          "text": [
            "Original List: [1, 2, 3, 4, 5]\n",
            "Reversed List: [5, 4, 3, 2, 1]\n"
          ]
        }
      ]
    },
    {
      "cell_type": "code",
      "source": [
        "# Implement a code to find and remove duplicates from a list while preserving the original order of elements."
      ],
      "metadata": {
        "id": "uj6kVdUZ6M8u"
      },
      "execution_count": null,
      "outputs": []
    },
    {
      "cell_type": "code",
      "source": [
        "def remove_duplicates(lst):\n",
        "\n",
        "    seen = set()\n",
        "    result = []\n",
        "\n",
        "    for item in lst:\n",
        "        if item not in seen:\n",
        "            result.append(item)\n",
        "            seen.add(item)\n",
        "\n",
        "    return result\n",
        "\n",
        "input_list = [1, 2, 2, 3, 4, 3, 5, 1]\n",
        "output_list = remove_duplicates(input_list)\n",
        "\n",
        "print(f\"Original List: {input_list}\")\n",
        "print(f\"List Without Duplicates: {output_list}\")\n"
      ],
      "metadata": {
        "colab": {
          "base_uri": "https://localhost:8080/"
        },
        "id": "mPzrWeV56UZv",
        "outputId": "3d31ac1a-f45b-4657-fb56-ad4c0d665fae"
      },
      "execution_count": 20,
      "outputs": [
        {
          "output_type": "stream",
          "name": "stdout",
          "text": [
            "Original List: [1, 2, 2, 3, 4, 3, 5, 1]\n",
            "List Without Duplicates: [1, 2, 3, 4, 5]\n"
          ]
        }
      ]
    },
    {
      "cell_type": "code",
      "source": [
        "#  Create a code to check if a given list is sorted (either in ascending or descending order) or not."
      ],
      "metadata": {
        "id": "sZS4Q0PP6g4H"
      },
      "execution_count": null,
      "outputs": []
    },
    {
      "cell_type": "code",
      "source": [
        "def is_sorted(lst):\n",
        "\n",
        "\n",
        "    if all(lst[i] <= lst[i + 1] for i in range(len(lst) - 1)):\n",
        "        return \"ascending\"\n",
        "\n",
        "    elif all(lst[i] >= lst[i + 1] for i in range(len(lst) - 1)):\n",
        "        return \"descending\"\n",
        "\n",
        "    else:\n",
        "        return \"not sorted\"\n",
        "\n",
        "input_list = [1, 2, 3, 4, 5]\n",
        "result = is_sorted(input_list)\n",
        "\n",
        "print(f\"Input List: {input_list}\")\n",
        "print(f\"Result: {result}\")\n"
      ],
      "metadata": {
        "colab": {
          "base_uri": "https://localhost:8080/"
        },
        "id": "lbP-jPJC6m3P",
        "outputId": "087e5cfb-e1fc-4c70-f6aa-9497527ba638"
      },
      "execution_count": 21,
      "outputs": [
        {
          "output_type": "stream",
          "name": "stdout",
          "text": [
            "Input List: [1, 2, 3, 4, 5]\n",
            "Result: ascending\n"
          ]
        }
      ]
    },
    {
      "cell_type": "code",
      "source": [
        "#  Write a code to merge two sorted lists into a single sorted list."
      ],
      "metadata": {
        "id": "bQL6ivjx62b3"
      },
      "execution_count": null,
      "outputs": []
    },
    {
      "cell_type": "code",
      "source": [
        "def merge_sorted_lists(list1, list2):\n",
        "\n",
        "    merged_list = []\n",
        "    i, j = 0, 0\n",
        "\n",
        "    while i < len(list1) and j < len(list2):\n",
        "        if list1[i] < list2[j]:\n",
        "            merged_list.append(list1[i])\n",
        "            i += 1\n",
        "        else:\n",
        "            merged_list.append(list2[j])\n",
        "            j += 1\n",
        "\n",
        "    merged_list.extend(list1[i:])\n",
        "    merged_list.extend(list2[j:])\n",
        "\n",
        "    return merged_list\n",
        "\n",
        "list1 = [1, 3, 5, 7]\n",
        "list2 = [2, 4, 6, 8]\n",
        "result = merge_sorted_lists(list1, list2)\n",
        "\n",
        "print(f\"Merged List: {result}\")\n"
      ],
      "metadata": {
        "colab": {
          "base_uri": "https://localhost:8080/"
        },
        "id": "B3OSyU4_66ZO",
        "outputId": "aa0a44c1-fc68-4bf5-ca8f-75e31833b5a7"
      },
      "execution_count": 22,
      "outputs": [
        {
          "output_type": "stream",
          "name": "stdout",
          "text": [
            "Merged List: [1, 2, 3, 4, 5, 6, 7, 8]\n"
          ]
        }
      ]
    },
    {
      "cell_type": "code",
      "source": [
        "# Implement a code to find the intersection of two given lists."
      ],
      "metadata": {
        "id": "06N0yaL37TGH"
      },
      "execution_count": null,
      "outputs": []
    },
    {
      "cell_type": "code",
      "source": [
        "def find_intersection(list1, list2):\n",
        "\n",
        "    set1 = set(list1)\n",
        "    set2 = set(list2)\n",
        "\n",
        "    intersection = list(set1 & set2)\n",
        "\n",
        "    return intersection\n",
        "\n",
        "list1 = [1, 2, 3, 4, 5]\n",
        "list2 = [4, 5, 6, 7]\n",
        "result = find_intersection(list1, list2)\n",
        "\n",
        "print(f\"Intersection: {result}\")\n"
      ],
      "metadata": {
        "colab": {
          "base_uri": "https://localhost:8080/"
        },
        "id": "8MPDWgsF7Xmv",
        "outputId": "918b628e-66fe-43e1-ff44-dd457d35d3fc"
      },
      "execution_count": 23,
      "outputs": [
        {
          "output_type": "stream",
          "name": "stdout",
          "text": [
            "Intersection: [4, 5]\n"
          ]
        }
      ]
    },
    {
      "cell_type": "code",
      "source": [
        "# Create a code to find the union of two lists without duplicates."
      ],
      "metadata": {
        "id": "eU-BJAR27lTv"
      },
      "execution_count": null,
      "outputs": []
    },
    {
      "cell_type": "code",
      "source": [
        "def find_union(list1, list2):\n",
        "\n",
        "    set1 = set(list1)\n",
        "    set2 = set(list2)\n",
        "\n",
        "    union = list(set1 | set2)\n",
        "\n",
        "    return union\n",
        "\n",
        "list1 = [1, 2, 3, 4, 5]\n",
        "list2 = [4, 5, 6, 7]\n",
        "result = find_union(list1, list2)\n",
        "\n",
        "print(f\"Union: {result}\")\n"
      ],
      "metadata": {
        "colab": {
          "base_uri": "https://localhost:8080/"
        },
        "id": "EHSbA76f7tg1",
        "outputId": "1e2b98ab-576c-4925-e551-316c2b76228d"
      },
      "execution_count": 24,
      "outputs": [
        {
          "output_type": "stream",
          "name": "stdout",
          "text": [
            "Union: [1, 2, 3, 4, 5, 6, 7]\n"
          ]
        }
      ]
    },
    {
      "cell_type": "code",
      "source": [
        "# Write a code to shuffle a given list randomly without using any built-in shuffle functions."
      ],
      "metadata": {
        "id": "OrjSnrCs73_g"
      },
      "execution_count": null,
      "outputs": []
    },
    {
      "cell_type": "code",
      "source": [
        "import random\n",
        "\n",
        "def shuffle_list(lst):\n",
        "\n",
        "    n = len(lst)\n",
        "    for i in range(n):\n",
        "\n",
        "        j = random.randint(i, n - 1)\n",
        "\n",
        "        lst[i], lst[j] = lst[j], lst[i]\n",
        "\n",
        "input_list = [1, 2, 3, 4, 5]\n",
        "print(f\"Original List: {input_list}\")\n",
        "shuffle_list(input_list)\n",
        "print(f\"Shuffled List: {input_list}\")\n"
      ],
      "metadata": {
        "colab": {
          "base_uri": "https://localhost:8080/"
        },
        "id": "HI-sLjjs78OO",
        "outputId": "310515db-2d4a-4331-8703-f3c85cd9825b"
      },
      "execution_count": 25,
      "outputs": [
        {
          "output_type": "stream",
          "name": "stdout",
          "text": [
            "Original List: [1, 2, 3, 4, 5]\n",
            "Shuffled List: [2, 5, 1, 3, 4]\n"
          ]
        }
      ]
    },
    {
      "cell_type": "code",
      "source": [
        "#  Write a code that takes two tuples as input and returns a new tuple containing elements that are common to both input tuples."
      ],
      "metadata": {
        "id": "AxfnmsVE8KnX"
      },
      "execution_count": null,
      "outputs": []
    },
    {
      "cell_type": "code",
      "source": [
        "def common_elements(tuple1, tuple2):\n",
        "\n",
        "    set1 = set(tuple1)\n",
        "    set2 = set(tuple2)\n",
        "\n",
        "    common = tuple(set1 & set2)\n",
        "\n",
        "    return common\n",
        "\n",
        "tuple1 = (1, 2, 3, 4, 5)\n",
        "tuple2 = (4, 5, 6, 7, 8)\n",
        "result = common_elements(tuple1, tuple2)\n",
        "\n",
        "print(f\"Common Elements: {result}\")\n"
      ],
      "metadata": {
        "id": "7g8V9rk88SEf"
      },
      "execution_count": null,
      "outputs": []
    },
    {
      "cell_type": "code",
      "source": [
        "#  Create a code that prompts the user to enter two sets of integers separated by commas. Then, print the intersection of these two sets."
      ],
      "metadata": {
        "id": "_IVi6ed68eo2"
      },
      "execution_count": null,
      "outputs": []
    },
    {
      "cell_type": "code",
      "source": [
        "def get_set_input(prompt):\n",
        "\n",
        "    user_input = input(prompt)\n",
        "\n",
        "    input_set = set(map(int, user_input.split(',')))\n",
        "\n",
        "    return input_set\n",
        "\n",
        "def main():\n",
        "\n",
        "    set1 = get_set_input(\"Enter the first set of integers (separated by commas): \")\n",
        "    set2 = get_set_input(\"Enter the second set of integers (separated by commas): \")\n",
        "\n",
        "\n",
        "    intersection = set1 & set2\n",
        "\n",
        "    print(f\"The intersection of the two sets is: {intersection}\")\n",
        "\n",
        "\n",
        "main()\n",
        "\n",
        "\n",
        "\n",
        "\n"
      ],
      "metadata": {
        "id": "Bm93chPL8ljm"
      },
      "execution_count": null,
      "outputs": []
    },
    {
      "cell_type": "code",
      "source": [
        "# Write a code to concatenate two tuples. The function should take two tuples as input and return a new tuple containing elements from both input tuples."
      ],
      "metadata": {
        "id": "XcCQ8Pyk9cRm"
      },
      "execution_count": null,
      "outputs": []
    },
    {
      "cell_type": "code",
      "source": [
        "def concatenate_tuples(tuple1, tuple2):\n",
        "\n",
        "    result = tuple1 + tuple2\n",
        "\n",
        "    return result\n",
        "\n",
        "tuple1 = (1, 2, 3)\n",
        "tuple2 = (4, 5, 6)\n",
        "result = concatenate_tuples(tuple1, tuple2)\n",
        "\n",
        "print(f\"Concatenated Tuple: {result}\")\n"
      ],
      "metadata": {
        "id": "YqsB0aqg9jL1"
      },
      "execution_count": null,
      "outputs": []
    },
    {
      "cell_type": "code",
      "source": [
        "# Develop a code that prompts the user to input two sets of strings. Then, print the elements that are present in the first set but not in the second set"
      ],
      "metadata": {
        "id": "Eq3dQ6PW-JwY"
      },
      "execution_count": null,
      "outputs": []
    },
    {
      "cell_type": "code",
      "source": [
        "\n",
        "set1_input = input(\"Enter the first set of strings (comma-separated): \")\n",
        "set2_input = input(\"Enter the second set of strings (comma-separated): \")\n",
        "\n",
        "\n",
        "set1 = set(set1_input.split(\",\"))\n",
        "set2 = set(set2_input.split(\",\"))\n",
        "\n",
        "\n",
        "difference = set1 - set2\n",
        "print(\"Elements present in the first set but not in the second set:\")\n",
        "print(difference)\n",
        "\n",
        "\n"
      ],
      "metadata": {
        "id": "clUpgFY6-a_A"
      },
      "execution_count": null,
      "outputs": []
    },
    {
      "cell_type": "code",
      "source": [
        "#  Create a code that takes a tuple and two integers as input. The function should return a new tuple containing elements from the original tuple within the specified range of indices"
      ],
      "metadata": {
        "id": "J1ZFggMz_WH9"
      },
      "execution_count": null,
      "outputs": []
    },
    {
      "cell_type": "code",
      "source": [
        "\n",
        "def extract_range_from_tuple(input_tuple, start_index, end_index):\n",
        "\n",
        "    if start_index < 0 or end_index >= len(input_tuple):\n",
        "        print(\"Error: Indices are out of bounds.\")\n",
        "        return None\n",
        "\n",
        "    return input_tuple[start_index:end_index+1]\n",
        "\n",
        "tuple_input = input(\"Enter a tuple (comma-separated values): \")\n",
        "tuple_input = tuple(tuple_input.split(\",\"))\n",
        "\n",
        "start_index = int(input(\"Enter the starting index: \"))\n",
        "end_index = int(input(\"Enter the ending index: \"))\n",
        "\n",
        "result_tuple = extract_range_from_tuple(tuple_input, start_index, end_index)\n",
        "\n",
        "if result_tuple is not None:\n",
        "    print(\"The new tuple with elements in the specified range is:\", result_tuple)\n"
      ],
      "metadata": {
        "id": "1n2hCNDb_b_H"
      },
      "execution_count": null,
      "outputs": []
    },
    {
      "cell_type": "code",
      "source": [
        "# Write a code that prompts the user to input two sets of characters. Then, print the union of these two sets"
      ],
      "metadata": {
        "id": "Qwd9nVas_soS"
      },
      "execution_count": null,
      "outputs": []
    },
    {
      "cell_type": "code",
      "source": [
        "\n",
        "set1_input = input(\"Enter the first set of characters (comma-separated): \")\n",
        "set2_input = input(\"Enter the second set of characters (comma-separated): \")\n",
        "\n",
        "set1 = set(set1_input.split(\",\"))\n",
        "set2 = set(set2_input.split(\",\"))\n",
        "\n",
        "union_set = set1 | set2\n",
        "print(\"The union of the two sets is:\", union_set)\n"
      ],
      "metadata": {
        "id": "0HdpzbD0_11s"
      },
      "execution_count": null,
      "outputs": []
    },
    {
      "cell_type": "code",
      "source": [
        "#  Develop a code that takes a tuple of integers as input. The function should return the maximum and minimum values from the tuple using tuple unpacking"
      ],
      "metadata": {
        "id": "CtNbPwec_83c"
      },
      "execution_count": null,
      "outputs": []
    },
    {
      "cell_type": "code",
      "source": [
        "\n",
        "def find_max_min(input_tuple):\n",
        "\n",
        "    max_value, min_value = max(input_tuple), min(input_tuple)\n",
        "    return max_value, min_value\n",
        "\n",
        "tuple_input = input(\"Enter a tuple of integers (comma-separated): \")\n",
        "tuple_input = tuple(map(int, tuple_input.split(\",\")))\n",
        "\n",
        "max_val, min_val = find_max_min(tuple_input)\n",
        "\n",
        "print(f\"The maximum value is: {max_val}\")\n",
        "print(f\"The minimum value is: {min_val}\")\n"
      ],
      "metadata": {
        "id": "_QyCVgU8ADne"
      },
      "execution_count": null,
      "outputs": []
    },
    {
      "cell_type": "code",
      "source": [
        "#  Create a code that defines two sets of integers. Then, print the union, intersection, and difference of these two sets"
      ],
      "metadata": {
        "id": "YBuFEmT-AQ7q"
      },
      "execution_count": null,
      "outputs": []
    },
    {
      "cell_type": "code",
      "source": [
        "\n",
        "set1 = {1, 2, 3, 4, 5}\n",
        "set2 = {4, 5, 6, 7, 8}\n",
        "\n",
        "\n",
        "union_set = set1 | set2\n",
        "\n",
        "intersection_set = set1 & set2\n",
        "difference_set = set1 - set2\n",
        "\n",
        "print(\"Union of the two sets:\", union_set)\n",
        "print(\"Intersection of the two sets:\", intersection_set)\n",
        "print(\"Difference of the two sets (set1 - set2):\", difference_set)\n"
      ],
      "metadata": {
        "id": "QuyXW3DpAXCW"
      },
      "execution_count": null,
      "outputs": []
    },
    {
      "cell_type": "code",
      "source": [
        "# Write a code that takes a tuple and an element as input. The function should return the count of occurrences of the given element in the tuple"
      ],
      "metadata": {
        "id": "Ap3bSqQfAp7j"
      },
      "execution_count": null,
      "outputs": []
    },
    {
      "cell_type": "code",
      "source": [
        "\n",
        "def count_occurrences(input_tuple, element):\n",
        "\n",
        "    return input_tuple.count(element)\n",
        "\n",
        "tuple_input = input(\"Enter a tuple (comma-separated values): \")\n",
        "tuple_input = tuple(tuple_input.split(\",\"))\n",
        "\n",
        "element_input = input(\"Enter the element to count: \")\n",
        "\n",
        "count = count_occurrences(tuple_input, element_input)\n",
        "\n",
        "print(f\"The element '{element_input}' occurs {count} times in the tuple.\")\n"
      ],
      "metadata": {
        "id": "nqW1i4TqAxib"
      },
      "execution_count": null,
      "outputs": []
    },
    {
      "cell_type": "code",
      "source": [
        "# Develop a code that prompts the user to input two sets of strings. Then, print the symmetric difference of these two sets"
      ],
      "metadata": {
        "id": "aiho01s6BQ1C"
      },
      "execution_count": null,
      "outputs": []
    },
    {
      "cell_type": "code",
      "source": [
        "\n",
        "set1_input = input(\"Enter the first set of strings (comma-separated): \")\n",
        "set2_input = input(\"Enter the second set of strings (comma-separated): \")\n",
        "\n",
        "set1 = set(set1_input.split(\",\"))\n",
        "set2 = set(set2_input.split(\",\"))\n",
        "symmetric_difference = set1 ^ set2\n",
        "\n",
        "print(\"The symmetric difference of the two sets is:\", symmetric_difference)\n"
      ],
      "metadata": {
        "id": "OcnIOK-FBY5U"
      },
      "execution_count": null,
      "outputs": []
    },
    {
      "cell_type": "code",
      "source": [
        "# Write a code that takes a list of words as input and returns a dictionary where the keys are unique words and the values are the frequencies of those words in the input list"
      ],
      "metadata": {
        "id": "eIPYru4KB11t"
      },
      "execution_count": null,
      "outputs": []
    },
    {
      "cell_type": "code",
      "source": [
        "\n",
        "def word_frequencies(word_list):\n",
        "    freq_dict = {}\n",
        "    for word in word_list:\n",
        "        if word in freq_dict:\n",
        "            freq_dict[word] += 1\n",
        "        else:\n",
        "            freq_dict[word] = 1\n",
        "    return freq_dict\n",
        "\n",
        "words_input = input(\"Enter a list of words (comma-separated): \")\n",
        "word_list = words_input.split(\",\")\n",
        "\n",
        "frequency_dict = word_frequencies(word_list)\n",
        "\n",
        "print(\"Word frequencies:\", frequency_dict)\n"
      ],
      "metadata": {
        "id": "9y-HWO-DB78U"
      },
      "execution_count": null,
      "outputs": []
    },
    {
      "cell_type": "code",
      "source": [
        "#  Write a code that takes two dictionaries as input and merges them into a single dictionary. If there are common keys, the values should be added together"
      ],
      "metadata": {
        "id": "CNtJ7UdhCIxI"
      },
      "execution_count": null,
      "outputs": []
    },
    {
      "cell_type": "code",
      "source": [
        "\n",
        "def merge_dicts(dict1, dict2):\n",
        "  s\n",
        "    merged_dict = dict1.copy()\n",
        "    for key, value in dict2.items():\n",
        "        if key in merged_dict:\n",
        "            merged_dict[key] += value\n",
        "        else:\n",
        "            merged_dict[key] = value\n",
        "    return merged_dict\n",
        "\n",
        "\n",
        "dict1_input = input(\"Enter the first dictionary (comma-separated key:value pairs): \")\n",
        "dict2_input = input(\"Enter the second dictionary (comma-separated key:value pairs): \")\n",
        "\n",
        "\n",
        "dict1 = dict(item.split(\":\") for item in dict1_input.split(\",\"))\n",
        "dict2 = dict(item.split(\":\") for item in dict2_input.split(\",\"))\n",
        "\n",
        "dict1 = {key: int(value) for key, value in dict1.items()}\n",
        "dict2 = {key: int(value) for key, value in dict2.items()}\n",
        "\n",
        "merged_dict = merge_dicts(dict1, dict2)\n",
        "\n",
        "print(\"Merged dictionary:\", merged_dict)\n"
      ],
      "metadata": {
        "id": "RkpsrtVECO39"
      },
      "execution_count": null,
      "outputs": []
    },
    {
      "cell_type": "code",
      "source": [
        "# Write a code to access a value in a nested dictionary. The function should take the dictionary and a list of keys as input, and return the corresponding value. If any of the keys do not exist in the dictionary, the function should return None"
      ],
      "metadata": {
        "id": "8S58FmtcCenP"
      },
      "execution_count": null,
      "outputs": []
    },
    {
      "cell_type": "code",
      "source": [
        "\n",
        "def access_nested_dict(nested_dict, keys):\n",
        "    current_dict = nested_dict\n",
        "    for key in keys:\n",
        "\n",
        "        if key in current_dict:\n",
        "            current_dict = current_dict[key]\n",
        "        else:\n",
        "            return None\n",
        "    return current_dict\n",
        "\n",
        "\n",
        "nested_dict = {\n",
        "    \"a\": {\n",
        "        \"b\": {\n",
        "            \"c\": 5\n",
        "        },\n",
        "        \"d\": 10\n",
        "    },\n",
        "    \"e\": 15\n",
        "}\n",
        "\n",
        "keys_input = input(\"Enter a list of keys (comma-separated): \")\n",
        "keys_list = keys_input.split(\",\")\n",
        "\n",
        "result = access_nested_dict(nested_dict, keys_list)\n",
        "\n",
        "if result is None:\n",
        "    print(\"One or more keys do not exist in the dictionary.\")\n",
        "else:\n",
        "    print(f\"The value corresponding to the keys {keys_list} is: {result}\")\n"
      ],
      "metadata": {
        "id": "vvyw9WpOClq3"
      },
      "execution_count": null,
      "outputs": []
    },
    {
      "cell_type": "code",
      "source": [
        "# Write a code that takes a dictionary as input and returns a sorted version of it based on the values. You can choose whether to sort in ascending or descending order"
      ],
      "metadata": {
        "id": "Slx_moZGC2E0"
      },
      "execution_count": null,
      "outputs": []
    },
    {
      "cell_type": "code",
      "source": [
        "\n",
        "def sort_dict_by_value(input_dict, ascending=True):\n",
        "\n",
        "    sorted_dict = dict(sorted(input_dict.items(), key=lambda item: item[1], reverse=not ascending))\n",
        "    return sorted_dict\n",
        "\n",
        "\n",
        "dict_input = input(\"Enter a dictionary (comma-separated key:value pairs): \")\n",
        "input_dict = dict(item.split(\":\") for item in dict_input.split(\",\"))\n",
        "\n",
        "input_dict = {key: int(value) for key, value in input_dict.items()}\n",
        "\n",
        "\n",
        "order = input(\"Enter 'asc' for ascending or 'desc' for descending order: \")\n",
        "ascending_order = True if order.lower() == 'asc' else False\n",
        "\n",
        "\n",
        "sorted_dict = sort_dict_by_value(input_dict, ascending=ascending_order)\n",
        "\n",
        "\n",
        "print(\"Sorted dictionary:\", sorted_dict)\n"
      ],
      "metadata": {
        "id": "quEESMTyC8Gw"
      },
      "execution_count": null,
      "outputs": []
    },
    {
      "cell_type": "code",
      "source": [
        "#  Write a code that inverts a dictionary, swapping keys and values. Ensure that the inverted dictionary correctly handles cases where multiple keys have the same value by storing the keys as a list in the inverted dictionary."
      ],
      "metadata": {
        "id": "MMlhWYAqDFyw"
      },
      "execution_count": null,
      "outputs": []
    },
    {
      "cell_type": "code",
      "source": [
        "\n",
        "def invert_dict(input_dict):\n",
        "    inverted_dict = {}\n",
        "\n",
        "    for key, value in input_dict.items():\n",
        "        if value in inverted_dict:\n",
        "\n",
        "            inverted_dict[value].append(key)\n",
        "        else:\n",
        "\n",
        "            inverted_dict[value] = [key]\n",
        "\n",
        "    return inverted_dict\n",
        "\n",
        "\n",
        "dict_input = input(\"Enter a dictionary (comma-separated key:value pairs): \")\n",
        "input_dict = dict(item.split(\":\") for item in dict_input.split(\",\"))\n",
        "\n",
        "input_dict = {key: value for key, value in input_dict.items()}\n",
        "\n",
        "inverted_dict = invert_dict(input_dict)\n",
        "\n",
        "\n",
        "print(\"Inverted dictionary:\", inverted_dict)\n"
      ],
      "metadata": {
        "id": "8ZI4zjUaDMQQ"
      },
      "execution_count": null,
      "outputs": []
    }
  ]
}